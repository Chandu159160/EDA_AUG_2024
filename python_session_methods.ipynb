{
 "cells": [
  {
   "cell_type": "markdown",
   "id": "07ca131b-1689-41f2-ad74-171599509dd8",
   "metadata": {},
   "source": [
    "# Methods\n",
    "\n",
    "- strings lists tuples dictionary every data type has its own methods\n",
    "\n",
    "- we already seen that packages has different method\n",
    "\n",
    "- for example rndom package : randint method\n",
    "\n",
    "- math package : sqrt\n",
    "\n",
    "- in the same way strings also have methods\n",
    "\n",
    "    - we are importing the package\n",
    " \n",
    "    - we are applying dir\n",
    "\n",
    "- in the similar way in order to see the methods of string, we need to apply dir only"
   ]
  },
  {
   "cell_type": "code",
   "execution_count": 1,
   "id": "c51bd0c2-f713-450e-be33-acebd42f39b0",
   "metadata": {},
   "outputs": [
    {
     "data": {
      "text/plain": [
       "['__add__',\n",
       " '__class__',\n",
       " '__contains__',\n",
       " '__delattr__',\n",
       " '__dir__',\n",
       " '__doc__',\n",
       " '__eq__',\n",
       " '__format__',\n",
       " '__ge__',\n",
       " '__getattribute__',\n",
       " '__getitem__',\n",
       " '__getnewargs__',\n",
       " '__getstate__',\n",
       " '__gt__',\n",
       " '__hash__',\n",
       " '__init__',\n",
       " '__init_subclass__',\n",
       " '__iter__',\n",
       " '__le__',\n",
       " '__len__',\n",
       " '__lt__',\n",
       " '__mod__',\n",
       " '__mul__',\n",
       " '__ne__',\n",
       " '__new__',\n",
       " '__reduce__',\n",
       " '__reduce_ex__',\n",
       " '__repr__',\n",
       " '__rmod__',\n",
       " '__rmul__',\n",
       " '__setattr__',\n",
       " '__sizeof__',\n",
       " '__str__',\n",
       " '__subclasshook__',\n",
       " 'capitalize',\n",
       " 'casefold',\n",
       " 'center',\n",
       " 'count',\n",
       " 'encode',\n",
       " 'endswith',\n",
       " 'expandtabs',\n",
       " 'find',\n",
       " 'format',\n",
       " 'format_map',\n",
       " 'index',\n",
       " 'isalnum',\n",
       " 'isalpha',\n",
       " 'isascii',\n",
       " 'isdecimal',\n",
       " 'isdigit',\n",
       " 'isidentifier',\n",
       " 'islower',\n",
       " 'isnumeric',\n",
       " 'isprintable',\n",
       " 'isspace',\n",
       " 'istitle',\n",
       " 'isupper',\n",
       " 'join',\n",
       " 'ljust',\n",
       " 'lower',\n",
       " 'lstrip',\n",
       " 'maketrans',\n",
       " 'partition',\n",
       " 'removeprefix',\n",
       " 'removesuffix',\n",
       " 'replace',\n",
       " 'rfind',\n",
       " 'rindex',\n",
       " 'rjust',\n",
       " 'rpartition',\n",
       " 'rsplit',\n",
       " 'rstrip',\n",
       " 'split',\n",
       " 'splitlines',\n",
       " 'startswith',\n",
       " 'strip',\n",
       " 'swapcase',\n",
       " 'title',\n",
       " 'translate',\n",
       " 'upper',\n",
       " 'zfill']"
      ]
     },
     "execution_count": 1,
     "metadata": {},
     "output_type": "execute_result"
    }
   ],
   "source": [
    "dir('') \n",
    "# dir('hai')\n",
    "# str1='apple'\n",
    "# dir(str1)"
   ]
  },
  {
   "cell_type": "markdown",
   "id": "30fb7e63-e515-4a30-83a1-3c7b6b097e1f",
   "metadata": {},
   "source": [
    "- lower\n",
    "- upper\n",
    "- captalize\n",
    "- tittle\n",
    "- casefold\n",
    "- center"
   ]
  },
  {
   "cell_type": "markdown",
   "id": "df0c2155-39c1-4ca3-86ee-d55bffc1f77f",
   "metadata": {},
   "source": [
    "**UPPER**"
   ]
  },
  {
   "cell_type": "code",
   "execution_count": 4,
   "id": "0849d273-c783-41e4-8a38-6b1108a3f2a9",
   "metadata": {},
   "outputs": [
    {
     "data": {
      "text/plain": [
       "str"
      ]
     },
     "execution_count": 4,
     "metadata": {},
     "output_type": "execute_result"
    }
   ],
   "source": [
    "str1='hai how are you'\n",
    "type(str1)"
   ]
  },
  {
   "cell_type": "code",
   "execution_count": 5,
   "id": "da6456e7-a3c0-4f83-b928-0bd7e95ac265",
   "metadata": {},
   "outputs": [
    {
     "data": {
      "text/plain": [
       "'HAI HOW ARE YOU'"
      ]
     },
     "execution_count": 5,
     "metadata": {},
     "output_type": "execute_result"
    }
   ],
   "source": [
    "str1.upper()"
   ]
  },
  {
   "cell_type": "markdown",
   "id": "4ac801a3-f1d0-4b36-93f0-649b9a264391",
   "metadata": {},
   "source": [
    "**LOWER**"
   ]
  },
  {
   "cell_type": "code",
   "execution_count": 6,
   "id": "ae56d5fa-3eb2-4bfc-8db6-5023db33c5b6",
   "metadata": {},
   "outputs": [
    {
     "data": {
      "text/plain": [
       "'hai how are you'"
      ]
     },
     "execution_count": 6,
     "metadata": {},
     "output_type": "execute_result"
    }
   ],
   "source": [
    "str1.lower()"
   ]
  },
  {
   "cell_type": "code",
   "execution_count": 8,
   "id": "cbf1aee7-b8bd-40ea-9a71-8a1355ea96b2",
   "metadata": {},
   "outputs": [
    {
     "data": {
      "text/plain": [
       "'Hai how are you'"
      ]
     },
     "execution_count": 8,
     "metadata": {},
     "output_type": "execute_result"
    }
   ],
   "source": [
    "str1.capitalize()"
   ]
  },
  {
   "cell_type": "code",
   "execution_count": 9,
   "id": "f341c65d-1504-49ad-bbd2-6b9cf263b2af",
   "metadata": {},
   "outputs": [
    {
     "data": {
      "text/plain": [
       "'hai how are you'"
      ]
     },
     "execution_count": 9,
     "metadata": {},
     "output_type": "execute_result"
    }
   ],
   "source": [
    "str1.casefold()"
   ]
  },
  {
   "cell_type": "code",
   "execution_count": 12,
   "id": "7069e73f-8c82-45c4-9cd9-2cbf42e75a01",
   "metadata": {},
   "outputs": [
    {
     "name": "stdout",
     "output_type": "stream",
     "text": [
      "Help on built-in function casefold:\n",
      "\n",
      "casefold() method of builtins.str instance\n",
      "    Return a version of the string suitable for caseless comparisons.\n",
      "\n"
     ]
    }
   ],
   "source": [
    "help(str1.casefold)"
   ]
  },
  {
   "cell_type": "markdown",
   "id": "5810dbbb-5c23-41e5-b603-829e23a4279a",
   "metadata": {},
   "source": [
    "# CENTER\n",
    "- center has two argumentes\n",
    "    - width\n",
    "    - fill char\n",
    "- original string already: 15 letters\n",
    "- we want to create a new string with 20 letters\n",
    "- remaining 5 letters by deafault empty\n",
    "- we can fill with characters also"
   ]
  },
  {
   "cell_type": "code",
   "execution_count": 18,
   "id": "476bca1a-f1b7-4655-a388-f953a8a8ac0a",
   "metadata": {},
   "outputs": [
    {
     "data": {
      "text/plain": [
       "'  hai how are you   '"
      ]
     },
     "execution_count": 18,
     "metadata": {},
     "output_type": "execute_result"
    }
   ],
   "source": [
    "str1.center(20)"
   ]
  },
  {
   "cell_type": "code",
   "execution_count": 19,
   "id": "95c75cac-23da-42ed-ac3d-4ed339b9c8fb",
   "metadata": {},
   "outputs": [
    {
     "data": {
      "text/plain": [
       "'*****hai how are you******'"
      ]
     },
     "execution_count": 19,
     "metadata": {},
     "output_type": "execute_result"
    }
   ],
   "source": [
    "str1.center(26,'*')"
   ]
  },
  {
   "cell_type": "code",
   "execution_count": 16,
   "id": "729b4f54-3c31-4fc5-ad82-f630b37b3b3e",
   "metadata": {},
   "outputs": [
    {
     "data": {
      "text/plain": [
       "'Hai How Are You'"
      ]
     },
     "execution_count": 16,
     "metadata": {},
     "output_type": "execute_result"
    }
   ],
   "source": [
    "str1.title()"
   ]
  },
  {
   "cell_type": "code",
   "execution_count": null,
   "id": "caf89cc1-e57e-42a5-8b71-0ece61423d1f",
   "metadata": {},
   "outputs": [],
   "source": [
    "# str1='hai how are you'\n",
    "# o/p= 'HAI HOW ARE YOU'\n",
    "# without using any method \n",
    "# one more level: iterate each letter apply capitalize\n",
    "# scratch : ord chr"
   ]
  },
  {
   "cell_type": "code",
   "execution_count": 24,
   "id": "ffac821d-dd07-404c-b2f9-b5d2e99e636b",
   "metadata": {},
   "outputs": [
    {
     "ename": "TypeError",
     "evalue": "ord() expected a character, but string of length 15 found",
     "output_type": "error",
     "traceback": [
      "\u001b[1;31m---------------------------------------------------------------------------\u001b[0m",
      "\u001b[1;31mTypeError\u001b[0m                                 Traceback (most recent call last)",
      "Cell \u001b[1;32mIn[24], line 2\u001b[0m\n\u001b[0;32m      1\u001b[0m \u001b[38;5;66;03m#h='hai how are you'\u001b[39;00m\n\u001b[1;32m----> 2\u001b[0m \u001b[38;5;28mord\u001b[39m(\u001b[38;5;124m'\u001b[39m\u001b[38;5;124mhai how are you\u001b[39m\u001b[38;5;124m'\u001b[39m)\n",
      "\u001b[1;31mTypeError\u001b[0m: ord() expected a character, but string of length 15 found"
     ]
    }
   ],
   "source": [
    "#h='hai how are you'\n",
    "ord( 'hai how are you')"
   ]
  },
  {
   "cell_type": "markdown",
   "id": "7d6cec0a-b87a-406b-8609-7ffd97706249",
   "metadata": {},
   "source": [
    "# Count"
   ]
  },
  {
   "cell_type": "code",
   "execution_count": null,
   "id": "54561306-21d6-450b-829f-7d7c2b47990f",
   "metadata": {},
   "outputs": [],
   "source": [
    "str1='hai how are you'\n",
    "# how many 'a''s are there'"
   ]
  },
  {
   "cell_type": "code",
   "execution_count": 25,
   "id": "da269ead-cc82-447a-a551-12e859c158c6",
   "metadata": {},
   "outputs": [
    {
     "name": "stdout",
     "output_type": "stream",
     "text": [
      "2\n"
     ]
    }
   ],
   "source": [
    "count=0\n",
    "for i in str1:\n",
    "    if i=='a':\n",
    "        count=count+1\n",
    "print(count)"
   ]
  },
  {
   "cell_type": "code",
   "execution_count": 27,
   "id": "eb69db3f-e705-4110-8eb2-22c8a0c25280",
   "metadata": {},
   "outputs": [
    {
     "data": {
      "text/plain": [
       "3"
      ]
     },
     "execution_count": 27,
     "metadata": {},
     "output_type": "execute_result"
    }
   ],
   "source": [
    "str1='hai hai hai'\n",
    "str1.count('a')"
   ]
  },
  {
   "cell_type": "markdown",
   "id": "7f80a637-0618-43de-afd1-1f98b4c67bd6",
   "metadata": {},
   "source": [
    "- we want a from a specific index \n",
    "\n",
    "- we want number of a between two indexes"
   ]
  },
  {
   "cell_type": "code",
   "execution_count": null,
   "id": "dcce2c94-4f0b-4f74-8a04-d4453ddb0f5b",
   "metadata": {},
   "outputs": [],
   "source": [
    "# h  a  i   h  a  i   h  a  i\n",
    "# 0  1  2 3 4  5  6 7 8  9  10"
   ]
  },
  {
   "cell_type": "code",
   "execution_count": 34,
   "id": "8e3b128e-59ae-4225-86fc-8f751da3bdc9",
   "metadata": {},
   "outputs": [
    {
     "data": {
      "text/plain": [
       "3"
      ]
     },
     "execution_count": 34,
     "metadata": {},
     "output_type": "execute_result"
    }
   ],
   "source": [
    "str1.count('a')\n",
    "str1.count('a',1)"
   ]
  },
  {
   "cell_type": "code",
   "execution_count": 35,
   "id": "d6fb15a7-6c61-42ae-bd7f-dfd23e55ebb8",
   "metadata": {},
   "outputs": [
    {
     "data": {
      "text/plain": [
       "2"
      ]
     },
     "execution_count": 35,
     "metadata": {},
     "output_type": "execute_result"
    }
   ],
   "source": [
    "str1.count('a',5) # we are searching number of 'a' from index 5"
   ]
  },
  {
   "cell_type": "code",
   "execution_count": 32,
   "id": "582c30cd-a1e4-4a9b-a528-d53a8e13078a",
   "metadata": {},
   "outputs": [
    {
     "data": {
      "text/plain": [
       "1"
      ]
     },
     "execution_count": 32,
     "metadata": {},
     "output_type": "execute_result"
    }
   ],
   "source": [
    "str1.count('a',4,8) # we are searching number of 'a' from index=4 to index=8"
   ]
  },
  {
   "cell_type": "code",
   "execution_count": 36,
   "id": "be38b1d6-82f8-4c75-9c25-d04cd189818d",
   "metadata": {},
   "outputs": [
    {
     "data": {
      "text/plain": [
       "3"
      ]
     },
     "execution_count": 36,
     "metadata": {},
     "output_type": "execute_result"
    }
   ],
   "source": [
    "str1='ola ola ola'\n",
    "str1.count('ola')"
   ]
  },
  {
   "cell_type": "code",
   "execution_count": null,
   "id": "ca593fc1-74fc-4768-a20e-286b0cfe95ed",
   "metadata": {},
   "outputs": [],
   "source": [
    "# in the interviews he will ask with out using methods\n",
    "#after you got job we can "
   ]
  },
  {
   "cell_type": "code",
   "execution_count": 40,
   "id": "af63c905-1e95-4723-911a-6c4c7b12d8b4",
   "metadata": {},
   "outputs": [
    {
     "name": "stdout",
     "output_type": "stream",
     "text": [
      "2\n"
     ]
    }
   ],
   "source": [
    "str1='ola ola ola'\n",
    "for iii in str1:\n",
    "    if iii=='ola':\n",
    "        count=count+1 \n",
    "print(count)"
   ]
  },
  {
   "cell_type": "markdown",
   "id": "8fbff109-0f85-4f27-bb64-ba283ffe0032",
   "metadata": {},
   "source": [
    "# window method"
   ]
  },
  {
   "cell_type": "code",
   "execution_count": null,
   "id": "21491f27-e4ec-4356-bcb8-ec3a8df627f6",
   "metadata": {},
   "outputs": [],
   "source": [
    "str1[i:i+3]\n",
    "i=0 str1[0:3] ===> ola\n",
    "i=1 str1[1:4] ===>  la"
   ]
  },
  {
   "cell_type": "code",
   "execution_count": 42,
   "id": "5036b624-7bc7-4b31-a064-450a5362ec53",
   "metadata": {},
   "outputs": [
    {
     "name": "stdout",
     "output_type": "stream",
     "text": [
      "3\n"
     ]
    }
   ],
   "source": [
    "str1='ola ola ola'\n",
    "count=0\n",
    "for i in range(len(str1)):\n",
    "    if str1[i:i+3]=='ola':\n",
    "        count=count+1\n",
    "print(count)"
   ]
  },
  {
   "cell_type": "code",
   "execution_count": 83,
   "id": "e001ea96-f658-4e0a-a6ce-a4117ac37696",
   "metadata": {},
   "outputs": [
    {
     "data": {
      "text/plain": [
       "2"
      ]
     },
     "execution_count": 83,
     "metadata": {},
     "output_type": "execute_result"
    }
   ],
   "source": [
    "str1='ola ola ola ola'\n",
    "str1.count('ola ola')"
   ]
  },
  {
   "cell_type": "code",
   "execution_count": 45,
   "id": "42a37da7-6c4f-46d7-b0e3-f5e7d01bf8a5",
   "metadata": {},
   "outputs": [
    {
     "data": {
      "text/plain": [
       "0"
      ]
     },
     "execution_count": 45,
     "metadata": {},
     "output_type": "execute_result"
    }
   ],
   "source": [
    "str1.count('z')"
   ]
  },
  {
   "cell_type": "markdown",
   "id": "2815611f-4ef9-47f5-b8b5-95880d501145",
   "metadata": {},
   "source": [
    "# REPALCE"
   ]
  },
  {
   "cell_type": "code",
   "execution_count": null,
   "id": "16079fb6-0e63-4a9b-b175-6cc74deb9818",
   "metadata": {},
   "outputs": [],
   "source": [
    "str1='welcome'\n",
    "# i want to replace 'l' with 'L'\n",
    "# we know that strings are immutable \n",
    "# we can not use index operations  also\n",
    "# slice and concatenation \n",
    "# divide welcome : we   come \n",
    "# s1='we'\n",
    "# s2-'come'\n",
    "# s1+'L'+s2"
   ]
  },
  {
   "cell_type": "code",
   "execution_count": 50,
   "id": "c107d629-f7f8-4299-b8e1-f3b47db66132",
   "metadata": {},
   "outputs": [
    {
     "name": "stdout",
     "output_type": "stream",
     "text": [
      "weLcome\n"
     ]
    }
   ],
   "source": [
    "str1='welcome'\n",
    "#str1.slice(0)\n",
    "s1='we'\n",
    "s2='come'\n",
    "s=s1+'L'+s2\n",
    "print(s)"
   ]
  },
  {
   "cell_type": "code",
   "execution_count": 51,
   "id": "9d112ecc-2629-4196-950b-1896456582ef",
   "metadata": {},
   "outputs": [
    {
     "data": {
      "text/plain": [
       "'weLcome'"
      ]
     },
     "execution_count": 51,
     "metadata": {},
     "output_type": "execute_result"
    }
   ],
   "source": [
    "str1='welcome'\n",
    "s1=str1[0:2]\n",
    "s2=str1[3:]\n",
    "s1+'L'+s2"
   ]
  },
  {
   "cell_type": "code",
   "execution_count": 52,
   "id": "a1aed0d5-31d6-45fd-9ac4-5e29acd7ff88",
   "metadata": {},
   "outputs": [
    {
     "data": {
      "text/plain": [
       "'L'"
      ]
     },
     "execution_count": 52,
     "metadata": {},
     "output_type": "execute_result"
    }
   ],
   "source": [
    "chr(ord('l')-32)"
   ]
  },
  {
   "cell_type": "code",
   "execution_count": 87,
   "id": "713720df-30d3-44d5-8bdc-12a8e784c303",
   "metadata": {},
   "outputs": [
    {
     "data": {
      "text/plain": [
       "'we%come'"
      ]
     },
     "execution_count": 87,
     "metadata": {},
     "output_type": "execute_result"
    }
   ],
   "source": [
    "str1='welcome'\n",
    "str1.replace('l','%')"
   ]
  },
  {
   "cell_type": "code",
   "execution_count": 54,
   "id": "ef3efc6b-9dc0-416d-b228-67f5cd989599",
   "metadata": {},
   "outputs": [
    {
     "data": {
      "text/plain": [
       "'weLLcome'"
      ]
     },
     "execution_count": 54,
     "metadata": {},
     "output_type": "execute_result"
    }
   ],
   "source": [
    "str1='wellcome'\n",
    "str1.replace('l','L')"
   ]
  },
  {
   "cell_type": "markdown",
   "id": "97d0c43f-0a6d-474a-86fe-d695e1d0bd32",
   "metadata": {},
   "source": [
    "- by default replace will change all the occurences\n",
    "\n",
    "- count= -1 is responsible for that \n",
    "\n",
    "- which means we can provide some count also, which how many i want to change \n",
    "\n",
    "- give welllcome and change count=1 and count=2 explore it "
   ]
  },
  {
   "cell_type": "code",
   "execution_count": 55,
   "id": "ad144579-6f78-43b9-979e-7fe245125993",
   "metadata": {},
   "outputs": [
    {
     "data": {
      "text/plain": [
       "'weLllcome'"
      ]
     },
     "execution_count": 55,
     "metadata": {},
     "output_type": "execute_result"
    }
   ],
   "source": [
    "str1='welllcome'\n",
    "str1.replace('l','L',1)   # old='l', new='L'   count=1\n",
    "\n",
    "\n",
    "# when we write count=1\n",
    "# it will chsnge only one letter \n",
    "# that to first occurence only \n"
   ]
  },
  {
   "cell_type": "code",
   "execution_count": 56,
   "id": "b398a817-eb04-44f9-bfc3-dff4eb595700",
   "metadata": {},
   "outputs": [
    {
     "data": {
      "text/plain": [
       "'weLLlcome'"
      ]
     },
     "execution_count": 56,
     "metadata": {},
     "output_type": "execute_result"
    }
   ],
   "source": [
    "str1='welllcome'\n",
    "str1.replace('l','L',2)"
   ]
  },
  {
   "cell_type": "code",
   "execution_count": 65,
   "id": "a1376e70-ce47-49fd-a1c7-58cfa103f055",
   "metadata": {},
   "outputs": [
    {
     "data": {
      "text/plain": [
       "'resta$t'"
      ]
     },
     "execution_count": 65,
     "metadata": {},
     "output_type": "execute_result"
    }
   ],
   "source": [
    "# str1='restart'\n",
    "# o/p='resta$t'\n",
    "str1='restart'\n",
    "s1='resta'\n",
    "s2='t'\n",
    "s1+'$'+s2\n",
    "#str1.replace('r','$',-1)"
   ]
  },
  {
   "cell_type": "code",
   "execution_count": 66,
   "id": "df244167-5793-44b5-935a-46b812bf0391",
   "metadata": {},
   "outputs": [
    {
     "data": {
      "text/plain": [
       "'resta$t'"
      ]
     },
     "execution_count": 66,
     "metadata": {},
     "output_type": "execute_result"
    }
   ],
   "source": [
    "str1='restart'\n",
    "s1=str1[:1]\n",
    "s2=str1[1:]\n",
    "s3=s2.replace('r','$')\n",
    "s1+s3"
   ]
  },
  {
   "cell_type": "code",
   "execution_count": 91,
   "id": "592dd09a-f86e-45b0-8aeb-becdd8095f21",
   "metadata": {},
   "outputs": [
    {
     "name": "stdout",
     "output_type": "stream",
     "text": [
      "estart\n"
     ]
    }
   ],
   "source": [
    "str1='restart'\n",
    "s1=str1[1:]\n",
    "print(s1)"
   ]
  },
  {
   "cell_type": "code",
   "execution_count": 67,
   "id": "c12a3ef5-7416-44a2-ba39-b1b35c119668",
   "metadata": {},
   "outputs": [
    {
     "data": {
      "text/plain": [
       "'resta$t'"
      ]
     },
     "execution_count": 67,
     "metadata": {},
     "output_type": "execute_result"
    }
   ],
   "source": [
    "str1='restart'   # this case imp one\n",
    "str1[::-1].replace('r','$',1)[::-1]"
   ]
  },
  {
   "cell_type": "code",
   "execution_count": 92,
   "id": "3897fa9c-5d28-4a94-ba58-7481e603c521",
   "metadata": {},
   "outputs": [
    {
     "data": {
      "text/plain": [
       "'tratser'"
      ]
     },
     "execution_count": 92,
     "metadata": {},
     "output_type": "execute_result"
    }
   ],
   "source": [
    "str1='restart'   # this case imp one\n",
    "str1[::-1]"
   ]
  },
  {
   "cell_type": "markdown",
   "id": "a9c17e1c-1f5f-4656-b843-3a1564c64cce",
   "metadata": {},
   "source": [
    "**index-find**"
   ]
  },
  {
   "cell_type": "code",
   "execution_count": null,
   "id": "93ec5e9a-5e04-4983-ade7-5da13889af59",
   "metadata": {},
   "outputs": [],
   "source": [
    "- upper \n",
    "\n",
    "- lower\n",
    "\n",
    "- capitalize\n",
    "\n",
    "- casefold\n",
    "\n",
    "- title\n",
    "\n",
    "- index-find\n",
    "\n",
    "- strip\n",
    "\n",
    "- starts with"
   ]
  },
  {
   "cell_type": "code",
   "execution_count": 68,
   "id": "a38e9c65-9483-4c25-8a80-bc14c06c98c1",
   "metadata": {},
   "outputs": [
    {
     "data": {
      "text/plain": [
       "['__add__',\n",
       " '__class__',\n",
       " '__contains__',\n",
       " '__delattr__',\n",
       " '__dir__',\n",
       " '__doc__',\n",
       " '__eq__',\n",
       " '__format__',\n",
       " '__ge__',\n",
       " '__getattribute__',\n",
       " '__getitem__',\n",
       " '__getnewargs__',\n",
       " '__getstate__',\n",
       " '__gt__',\n",
       " '__hash__',\n",
       " '__init__',\n",
       " '__init_subclass__',\n",
       " '__iter__',\n",
       " '__le__',\n",
       " '__len__',\n",
       " '__lt__',\n",
       " '__mod__',\n",
       " '__mul__',\n",
       " '__ne__',\n",
       " '__new__',\n",
       " '__reduce__',\n",
       " '__reduce_ex__',\n",
       " '__repr__',\n",
       " '__rmod__',\n",
       " '__rmul__',\n",
       " '__setattr__',\n",
       " '__sizeof__',\n",
       " '__str__',\n",
       " '__subclasshook__',\n",
       " 'capitalize',\n",
       " 'casefold',\n",
       " 'center',\n",
       " 'count',\n",
       " 'encode',\n",
       " 'endswith',\n",
       " 'expandtabs',\n",
       " 'find',\n",
       " 'format',\n",
       " 'format_map',\n",
       " 'index',\n",
       " 'isalnum',\n",
       " 'isalpha',\n",
       " 'isascii',\n",
       " 'isdecimal',\n",
       " 'isdigit',\n",
       " 'isidentifier',\n",
       " 'islower',\n",
       " 'isnumeric',\n",
       " 'isprintable',\n",
       " 'isspace',\n",
       " 'istitle',\n",
       " 'isupper',\n",
       " 'join',\n",
       " 'ljust',\n",
       " 'lower',\n",
       " 'lstrip',\n",
       " 'maketrans',\n",
       " 'partition',\n",
       " 'removeprefix',\n",
       " 'removesuffix',\n",
       " 'replace',\n",
       " 'rfind',\n",
       " 'rindex',\n",
       " 'rjust',\n",
       " 'rpartition',\n",
       " 'rsplit',\n",
       " 'rstrip',\n",
       " 'split',\n",
       " 'splitlines',\n",
       " 'startswith',\n",
       " 'strip',\n",
       " 'swapcase',\n",
       " 'title',\n",
       " 'translate',\n",
       " 'upper',\n",
       " 'zfill']"
      ]
     },
     "execution_count": 68,
     "metadata": {},
     "output_type": "execute_result"
    }
   ],
   "source": [
    "dir(str1)"
   ]
  },
  {
   "cell_type": "code",
   "execution_count": null,
   "id": "8eecf9b0-9ec9-4a69-9c31-fa9945383adf",
   "metadata": {},
   "outputs": [],
   "source": [
    " 'isalnum',\n",
    " 'isalpha',\n",
    " 'isascii',\n",
    " 'isdecimal',\n",
    " 'isdigit',\n",
    " 'isidentifier',\n",
    " 'islower',\n",
    " 'isnumeric',\n",
    " 'isprintable',\n",
    " 'isspace',\n",
    " 'istitle',\n",
    " 'isupper',"
   ]
  },
  {
   "cell_type": "markdown",
   "id": "aa16ef6b-2892-4485-87dc-4b9fbde2a28e",
   "metadata": {},
   "source": [
    "# index"
   ]
  },
  {
   "cell_type": "markdown",
   "id": "bea6578a-7ff2-48b4-8745-cf9ca36ad3bc",
   "metadata": {},
   "source": [
    "- index says that it will give the index of any letter in a given string\n",
    "\n",
    "- we already seen about count: Count will give how many letters are there \n",
    "\n",
    "    - at what index you want to count\n",
    "    - between indexes also we can count the letters \n",
    "\n",
    "- index meaning it will provide the index\n",
    "\n",
    "- imagine that there same letters repeated\n",
    "\n",
    "- how can we find the next index "
   ]
  },
  {
   "cell_type": "code",
   "execution_count": 2,
   "id": "4335e23d-58b0-4cc5-80bd-72a7515a115a",
   "metadata": {},
   "outputs": [
    {
     "data": {
      "text/plain": [
       "1"
      ]
     },
     "execution_count": 2,
     "metadata": {},
     "output_type": "execute_result"
    }
   ],
   "source": [
    "str1='hai hai hai'\n",
    "str1.index('a')\n",
    "# return the lowest index in s where substring sub is found,"
   ]
  },
  {
   "cell_type": "code",
   "execution_count": 46,
   "id": "60cc722f-c2e4-4121-b661-bb72ec48086f",
   "metadata": {},
   "outputs": [
    {
     "data": {
      "text/plain": [
       "9"
      ]
     },
     "execution_count": 46,
     "metadata": {},
     "output_type": "execute_result"
    }
   ],
   "source": [
    "# i want to know 'a' index after 3rd index\n",
    "str1='hai hai hai'\n",
    "str1.index('a',9)"
   ]
  },
  {
   "cell_type": "code",
   "execution_count": 3,
   "id": "7edea057-887a-46e7-9c5b-341d00952694",
   "metadata": {},
   "outputs": [
    {
     "data": {
      "text/plain": [
       "5"
      ]
     },
     "execution_count": 3,
     "metadata": {},
     "output_type": "execute_result"
    }
   ],
   "source": [
    "# i want to know 'a' index between 3rd and 7th index\n",
    "# h a i   h a i   h a i\n",
    "# 0 1 2 3 4 5 6 7 8 9 10\n",
    "\n",
    "str1='hai hai hai'\n",
    "str1.index('a',3,7)"
   ]
  },
  {
   "cell_type": "code",
   "execution_count": null,
   "id": "bac5fa1e-db1f-4984-8917-e6121ba34fea",
   "metadata": {},
   "outputs": [],
   "source": [
    "str1='hai hai hai'\n",
    "str1.index('a')      # among all the indexes the lowest index is'1\n",
    "\n",
    "str1='hai hai hai'\n",
    "str1.index('a',3)    # after 3rd index the lowest index of a is '5'\n",
    "\n",
    "str1='hai hai hai'\n",
    "str1.index('a',3,7)  # between 3-7 index the lowest index is '5' only "
   ]
  },
  {
   "cell_type": "code",
   "execution_count": 5,
   "id": "a3c858b6-eb39-487d-a69f-c87f6dca7e11",
   "metadata": {},
   "outputs": [
    {
     "data": {
      "text/plain": [
       "9"
      ]
     },
     "execution_count": 5,
     "metadata": {},
     "output_type": "execute_result"
    }
   ],
   "source": [
    "#-11 -10 -9 -8 -7 -6 -5 -4 -3 -2 -1\n",
    "# h   a   i     h  a  i     h  a  i\n",
    "# 0   1   2  3  4  5  6  7  8  9  10\n",
    "\n",
    "str1='hai hai hai'\n",
    "str1.index('a',-3,-1)  # among all the index "
   ]
  },
  {
   "cell_type": "code",
   "execution_count": 7,
   "id": "b4991d55-c90e-42a1-ba1c-16c4e55fa125",
   "metadata": {},
   "outputs": [
    {
     "data": {
      "text/plain": [
       "5"
      ]
     },
     "execution_count": 7,
     "metadata": {},
     "output_type": "execute_result"
    }
   ],
   "source": [
    "str1='hai hai hai'\n",
    "str1.index('a',-9,-4)"
   ]
  },
  {
   "cell_type": "code",
   "execution_count": null,
   "id": "54b98468-7fb8-4163-b59f-448cbee4a3db",
   "metadata": {},
   "outputs": [],
   "source": [
    "str1='hai hai hai'\n",
    "print(str1.index('a',-9,-4))\n",
    "# positive direction \n",
    "# strat = start ="
   ]
  },
  {
   "cell_type": "code",
   "execution_count": 47,
   "id": "aa3fb308-5e43-4c3b-981e-445b28165ee6",
   "metadata": {},
   "outputs": [
    {
     "name": "stdout",
     "output_type": "stream",
     "text": [
      "1\n",
      "5\n",
      "9\n"
     ]
    }
   ],
   "source": [
    "#-11 -10 -9 -8 -7 -6 -5 -4 -3 -2 -1\n",
    "# h   a   i     h  a  i     h  a  i\n",
    "# 0   1   2  3  4  5  6  7  8  9  10\n",
    "str1='hai hai hai'\n",
    "print(str1.index('a'))\n",
    "str1='hai hai hai'\n",
    "print(str1.index('a',3))\n",
    "str1='hai hai hai'\n",
    "print(str1.index('a',6,10))"
   ]
  },
  {
   "cell_type": "code",
   "execution_count": 11,
   "id": "df40838b-3e50-4b97-b8c0-23b8c434d574",
   "metadata": {},
   "outputs": [
    {
     "name": "stdout",
     "output_type": "stream",
     "text": [
      "1\n",
      "5\n",
      "9\n",
      "13\n"
     ]
    }
   ],
   "source": [
    "str1='hai hai hai hai'\n",
    "i1=str1.index('a')\n",
    "print(i1)\n",
    "i2=str1.index('a',2)\n",
    "print(i2)\n",
    "i3=str1.index('a',6)\n",
    "print(i3)\n",
    "i4=str1.index('a',i3+1)\n",
    "print(i4)"
   ]
  },
  {
   "cell_type": "markdown",
   "id": "3a3f5280-0ebf-4de7-8e25-840d5f01126c",
   "metadata": {},
   "source": [
    "# Find"
   ]
  },
  {
   "cell_type": "code",
   "execution_count": 14,
   "id": "28d2d487-ec8d-4141-8975-988c989a8f3b",
   "metadata": {},
   "outputs": [
    {
     "data": {
      "text/plain": [
       "1"
      ]
     },
     "execution_count": 14,
     "metadata": {},
     "output_type": "execute_result"
    }
   ],
   "source": [
    "str1.find('a')"
   ]
  },
  {
   "cell_type": "code",
   "execution_count": 16,
   "id": "564e81a5-dee0-49a3-bedd-4b905eac9866",
   "metadata": {},
   "outputs": [
    {
     "name": "stdout",
     "output_type": "stream",
     "text": [
      "1\n",
      "5\n",
      "9\n",
      "13\n",
      "-1\n"
     ]
    }
   ],
   "source": [
    "str1='hai hai hai hai'\n",
    "i1=str1.find('a')\n",
    "print(i1)\n",
    "i2=str1.find('a',2)\n",
    "print(i2)\n",
    "i3=str1.find('a',6)\n",
    "print(i3)\n",
    "i4=str1.find('a',i3+1)\n",
    "print(i4)\n",
    "i5=str1.find('a',i4+1)\n",
    "print(i5)"
   ]
  },
  {
   "cell_type": "code",
   "execution_count": null,
   "id": "a92e2f45-04a8-44e2-9362-ef48fb9861a4",
   "metadata": {},
   "outputs": [],
   "source": [
    "str1.index()  # Raises ValueError when the substring is not found.\n",
    "str1.find()   # Return -1 on failure."
   ]
  },
  {
   "cell_type": "code",
   "execution_count": 54,
   "id": "4ee1a74d-e71f-4f16-85b1-1523a4462278",
   "metadata": {},
   "outputs": [
    {
     "data": {
      "text/plain": [
       "'hfi hfi hfi hfi'"
      ]
     },
     "execution_count": 54,
     "metadata": {},
     "output_type": "execute_result"
    }
   ],
   "source": [
    "str1='hai hai hai hai'\n",
    "str1.replace('a','f')"
   ]
  },
  {
   "cell_type": "markdown",
   "id": "76870db1-95ea-43f0-8755-54cedf47f383",
   "metadata": {},
   "source": [
    "- if substring not fount\n",
    "\n",
    "- count method will give zero \n",
    "\n",
    "- replace method will give originl string \n",
    "\n",
    "- index will give **sub string not found error**\n",
    "\n",
    "- find will give-1"
   ]
  },
  {
   "cell_type": "code",
   "execution_count": 33,
   "id": "d5e4a925-1e03-4916-8fba-219aead92d25",
   "metadata": {},
   "outputs": [
    {
     "ename": "SyntaxError",
     "evalue": "unterminated string literal (detected at line 6) (753619993.py, line 6)",
     "output_type": "error",
     "traceback": [
      "\u001b[1;36m  Cell \u001b[1;32mIn[33], line 6\u001b[1;36m\u001b[0m\n\u001b[1;33m    str3='rohit.sharma@m1.com\u001b[0m\n\u001b[1;37m         ^\u001b[0m\n\u001b[1;31mSyntaxError\u001b[0m\u001b[1;31m:\u001b[0m unterminated string literal (detected at line 6)\n"
     ]
    }
   ],
   "source": [
    "str1='omkar.nalagoni@cognizant.com'\n",
    "# first name = omkar\n",
    "# second name = nallagoni\n",
    "# third name = cognizant\n",
    "str2='virat.kohli@rcb.com'\n",
    "str3='rohit.sharma@m1.com\n",
    "str4='a.b@c.com'\n",
    "# idea : find the triggers \n",
    "# for the first time .\n",
    "# second name  . and @\n",
    "# company name  @ and second . "
   ]
  },
  {
   "cell_type": "code",
   "execution_count": 34,
   "id": "f5b893bd-a3d5-4902-b270-f5daae1e4752",
   "metadata": {},
   "outputs": [
    {
     "data": {
      "text/plain": [
       "('omkar', 'nalagoni', 'cognizant')"
      ]
     },
     "execution_count": 34,
     "metadata": {},
     "output_type": "execute_result"
    }
   ],
   "source": [
    "str1='omkar.nalagoni@cognizant.com'\n",
    "i1=str1.find('.')\n",
    "i2=str1.find('@')\n",
    "i3=str1.index('.',i1+1)\n",
    "first_name=str1[:i1]\n",
    "second_name=str1[i1+1:i2]\n",
    "cname=str1[i2+1:i3]\n",
    "first_name,second_name,cname"
   ]
  },
  {
   "cell_type": "code",
   "execution_count": 37,
   "id": "5d208b29-f1f6-482b-aab6-96d002517813",
   "metadata": {},
   "outputs": [
    {
     "data": {
      "text/plain": [
       "('virat', 'kohli', 'rcb')"
      ]
     },
     "execution_count": 37,
     "metadata": {},
     "output_type": "execute_result"
    }
   ],
   "source": [
    "str2='virat.kohli@rcb.com'\n",
    "i1=str2.find('.')\n",
    "i2=str2.find('@')\n",
    "i3=str2.index('.',i1+1)\n",
    "first_name=str2[:i1]\n",
    "second_name=str2[i1+1:i2]\n",
    "cname=str2[i2+1:i3]\n",
    "first_name,second_name,cname"
   ]
  },
  {
   "cell_type": "code",
   "execution_count": 39,
   "id": "8fca1144-7dfb-4e5f-ba9a-85c5e8ea3649",
   "metadata": {},
   "outputs": [
    {
     "data": {
      "text/plain": [
       "('rohit', 'sharma', 'm1')"
      ]
     },
     "execution_count": 39,
     "metadata": {},
     "output_type": "execute_result"
    }
   ],
   "source": [
    "str3='rohit.sharma@m1.com'\n",
    "i1=str3.find('.')\n",
    "i2=str3.find('@')\n",
    "i3=str3.index('.',i1+1)\n",
    "first_name=str3[:i1]\n",
    "second_name=str3[i1+1:i2]\n",
    "cname=str3[i2+1:i3]\n",
    "first_name,second_name,cname"
   ]
  },
  {
   "cell_type": "code",
   "execution_count": null,
   "id": "37f8bbd3-fa20-463b-bb3d-249bbf082536",
   "metadata": {},
   "outputs": [],
   "source": [
    "str3.startswith()"
   ]
  },
  {
   "cell_type": "code",
   "execution_count": null,
   "id": "db98eb87-d61e-4bf4-9771-9d946e748c19",
   "metadata": {},
   "outputs": [],
   "source": []
  }
 ],
 "metadata": {
  "kernelspec": {
   "display_name": "Python 3 (ipykernel)",
   "language": "python",
   "name": "python3"
  },
  "language_info": {
   "codemirror_mode": {
    "name": "ipython",
    "version": 3
   },
   "file_extension": ".py",
   "mimetype": "text/x-python",
   "name": "python",
   "nbconvert_exporter": "python",
   "pygments_lexer": "ipython3",
   "version": "3.11.7"
  },
  "widgets": {
   "application/vnd.jupyter.widget-state+json": {
    "state": {},
    "version_major": 2,
    "version_minor": 0
   }
  }
 },
 "nbformat": 4,
 "nbformat_minor": 5
}
