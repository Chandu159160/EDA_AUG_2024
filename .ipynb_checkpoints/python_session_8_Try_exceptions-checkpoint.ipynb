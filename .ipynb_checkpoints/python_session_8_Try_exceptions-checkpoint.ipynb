{
 "cells": [
  {
   "cell_type": "markdown",
   "id": "472627df-bc7f-4cdb-ba3b-35597842066b",
   "metadata": {},
   "source": [
    "**try-except**\n",
    "- generally in real time we wil write n number of python lines \n",
    "- There is a situation we might get an error that  error might be unknown\n",
    "- this unknown error does not cause any harm \n",
    "- even though u getting error we need to prceed to further\n",
    "- also we need to catch the error \n",
    "- because we already know python is a sequential process \n",
    "- means the line will execute step by step \n",
    "- suppose you have an error at particular line, the code execution will stop at that line onlyut \n",
    "- but yow know that error is not harmful\n",
    "- so you want to continue the execution\n",
    "- then we required try-exception"
   ]
  },
  {
   "cell_type": "markdown",
   "id": "388c46a3-efba-4793-8766-c48f963b49e8",
   "metadata": {},
   "source": [
    "- try-except has two blocks\n",
    "\n",
    "- try block as actual code\n",
    "\n",
    "- except block will catch the error"
   ]
  },
  {
   "cell_type": "code",
   "execution_count": 1,
   "id": "cdacd013-7480-40c1-8108-d60b1ced6eb9",
   "metadata": {},
   "outputs": [
    {
     "name": "stdin",
     "output_type": "stream",
     "text": [
      "Enter the num1:  2\n",
      "Enter the num1:  ttt\n"
     ]
    },
    {
     "name": "stdout",
     "output_type": "stream",
     "text": [
      "hello\n",
      "you are getting error\n",
      "check the code properly\n"
     ]
    }
   ],
   "source": [
    "try:\n",
    "    num1=eval(input(\"Enter the num1: \"))\n",
    "    num2=eval(input(\"Enter the num1: \"))\n",
    "    add=num1+num2\n",
    "    print(add)\n",
    "except:\n",
    "    print(\"hello\")\n",
    "    print('you are getting error')\n",
    "    print(\"check the code properly\")"
   ]
  },
  {
   "cell_type": "markdown",
   "id": "d92dab2c-2504-49c3-8d55-21d02e800d70",
   "metadata": {},
   "source": [
    "## Note\n",
    "- Generally try and except block will use to catch the error "
   ]
  },
  {
   "cell_type": "code",
   "execution_count": 2,
   "id": "3c93c5b6-7f0a-43f6-ab42-8bac27f5f4a1",
   "metadata": {},
   "outputs": [
    {
     "name": "stdin",
     "output_type": "stream",
     "text": [
      "Enter the num1:  8\n",
      "Enter the num1:  4\n"
     ]
    },
    {
     "name": "stdout",
     "output_type": "stream",
     "text": [
      "12\n",
      "4\n"
     ]
    }
   ],
   "source": [
    "try:\n",
    "    num11111=eval(input(\"Enter the num1: \"))\n",
    "    num2=eval(input(\"Enter the num1: \"))\n",
    "    add=num11111+num2\n",
    "    print(add)\n",
    "    sub=num11111-num2\n",
    "    print(sub)\n",
    "except Exception as e:\n",
    "    print(f\"the error is {e}\")"
   ]
  },
  {
   "cell_type": "code",
   "execution_count": null,
   "id": "9edddaec-27fb-4622-b81e-761d35679a2b",
   "metadata": {},
   "outputs": [],
   "source": [
    "# Now onwards every code should write on try-except "
   ]
  },
  {
   "cell_type": "code",
   "execution_count": 6,
   "id": "7f00af0c-efaa-40a0-a7b2-9bb600f6fb0e",
   "metadata": {},
   "outputs": [
    {
     "name": "stdin",
     "output_type": "stream",
     "text": [
      "enter a number  ten\n"
     ]
    },
    {
     "name": "stdout",
     "output_type": "stream",
     "text": [
      "name 'ten' is not defined\n"
     ]
    }
   ],
   "source": [
    "try:\n",
    "    num= eval(input(\"enter a number \"))\n",
    "    if num%2==0:\n",
    "        print(f\"the {num} is even\")\n",
    "    else:\n",
    "        print(f\" the {num} is odd\")\n",
    "except Exception as e:\n",
    "    print(e)"
   ]
  },
  {
   "cell_type": "code",
   "execution_count": 14,
   "id": "3e09412e-f1ce-413a-be9b-e96ce3245c10",
   "metadata": {},
   "outputs": [
    {
     "name": "stdin",
     "output_type": "stream",
     "text": [
      "Enter the start value:  8\n",
      "Enter the end value:  hj7f\n"
     ]
    },
    {
     "name": "stdout",
     "output_type": "stream",
     "text": [
      "name 'hj7f' is not defined\n"
     ]
    }
   ],
   "source": [
    "import random\n",
    "try:\n",
    "    start=eval(input(\"Enter the start value: \"))\n",
    "    end=eval(input(\"Enter the end value: \"))\n",
    "    num= random.randint(start,end)\n",
    "    if num%2==0:\n",
    "        print(f\"the {num} is even\")\n",
    "    else:\n",
    "        print(f\" the {num} is odd\")\n",
    "except Exception as e:\n",
    "    print(e)"
   ]
  },
  {
   "cell_type": "code",
   "execution_count": 12,
   "id": "e656f088-7870-427d-aff1-1b255e613b6b",
   "metadata": {},
   "outputs": [
    {
     "name": "stdin",
     "output_type": "stream",
     "text": [
      "Enter the start value:  6\n",
      "Enter the end value:  7\n"
     ]
    },
    {
     "name": "stdout",
     "output_type": "stream",
     "text": [
      "the 6 is even\n"
     ]
    }
   ],
   "source": [
    "import random\n",
    "start=eval(input(\"Enter the start value: \"))\n",
    "end=eval(input(\"Enter the end value: \"))\n",
    "num= random.randint(start,end)\n",
    "if num%2==0:\n",
    "    print(f\"the {num} is even\")\n",
    "else:\n",
    "    print(f\" the {num} is odd\")"
   ]
  },
  {
   "cell_type": "code",
   "execution_count": null,
   "id": "d6b9ec4c-d75e-4608-940e-f6575c8c22e9",
   "metadata": {},
   "outputs": [],
   "source": []
  }
 ],
 "metadata": {
  "kernelspec": {
   "display_name": "Python 3 (ipykernel)",
   "language": "python",
   "name": "python3"
  },
  "language_info": {
   "codemirror_mode": {
    "name": "ipython",
    "version": 3
   },
   "file_extension": ".py",
   "mimetype": "text/x-python",
   "name": "python",
   "nbconvert_exporter": "python",
   "pygments_lexer": "ipython3",
   "version": "3.11.7"
  },
  "widgets": {
   "application/vnd.jupyter.widget-state+json": {
    "state": {},
    "version_major": 2,
    "version_minor": 0
   }
  }
 },
 "nbformat": 4,
 "nbformat_minor": 5
}
