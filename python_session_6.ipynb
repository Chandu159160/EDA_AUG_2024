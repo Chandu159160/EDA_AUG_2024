{
 "cells": [
  {
   "cell_type": "code",
   "execution_count": 9,
   "id": "cc5713e2-6f15-41e2-9b27-6b6a9a335509",
   "metadata": {},
   "outputs": [
    {
     "data": {
      "text/plain": [
       "['BPF',\n",
       " 'LOG4',\n",
       " 'NV_MAGICCONST',\n",
       " 'RECIP_BPF',\n",
       " 'Random',\n",
       " 'SG_MAGICCONST',\n",
       " 'SystemRandom',\n",
       " 'TWOPI',\n",
       " '_ONE',\n",
       " '_Sequence',\n",
       " '_Set',\n",
       " '__all__',\n",
       " '__builtins__',\n",
       " '__cached__',\n",
       " '__doc__',\n",
       " '__file__',\n",
       " '__loader__',\n",
       " '__name__',\n",
       " '__package__',\n",
       " '__spec__',\n",
       " '_accumulate',\n",
       " '_acos',\n",
       " '_bisect',\n",
       " '_ceil',\n",
       " '_cos',\n",
       " '_e',\n",
       " '_exp',\n",
       " '_floor',\n",
       " '_index',\n",
       " '_inst',\n",
       " '_isfinite',\n",
       " '_log',\n",
       " '_os',\n",
       " '_pi',\n",
       " '_random',\n",
       " '_repeat',\n",
       " '_sha512',\n",
       " '_sin',\n",
       " '_sqrt',\n",
       " '_test',\n",
       " '_test_generator',\n",
       " '_urandom',\n",
       " '_warn',\n",
       " 'betavariate',\n",
       " 'choice',\n",
       " 'choices',\n",
       " 'expovariate',\n",
       " 'gammavariate',\n",
       " 'gauss',\n",
       " 'getrandbits',\n",
       " 'getstate',\n",
       " 'lognormvariate',\n",
       " 'normalvariate',\n",
       " 'paretovariate',\n",
       " 'randbytes',\n",
       " 'randint',\n",
       " 'random',\n",
       " 'randrange',\n",
       " 'sample',\n",
       " 'seed',\n",
       " 'setstate',\n",
       " 'shuffle',\n",
       " 'triangular',\n",
       " 'uniform',\n",
       " 'vonmisesvariate',\n",
       " 'weibullvariate']"
      ]
     },
     "execution_count": 9,
     "metadata": {},
     "output_type": "execute_result"
    }
   ],
   "source": [
    "import random\n",
    "dir(random)"
   ]
  },
  {
   "cell_type": "code",
   "execution_count": 11,
   "id": "f517ac4d-eafd-47ac-b93f-a8280772ef98",
   "metadata": {},
   "outputs": [
    {
     "name": "stdout",
     "output_type": "stream",
     "text": [
      "Help on method randint in module random:\n",
      "\n",
      "randint(a, b) method of random.Random instance\n",
      "    Return random integer in range [a, b], including both end points.\n",
      "\n"
     ]
    }
   ],
   "source": [
    "help(random.randint)"
   ]
  },
  {
   "cell_type": "code",
   "execution_count": 13,
   "id": "c2a7ed9a-2d02-4420-b74d-61d200ffffb5",
   "metadata": {},
   "outputs": [
    {
     "data": {
      "text/plain": [
       "10"
      ]
     },
     "execution_count": 13,
     "metadata": {},
     "output_type": "execute_result"
    }
   ],
   "source": [
    "random.randint(10,20)"
   ]
  },
  {
   "cell_type": "code",
   "execution_count": 14,
   "id": "0ffa376b-412e-4170-bb15-fc4d2bb5b248",
   "metadata": {},
   "outputs": [],
   "source": [
    "import math"
   ]
  },
  {
   "cell_type": "code",
   "execution_count": 15,
   "id": "c308dff4-8a70-4439-875a-8dfb7a21fed6",
   "metadata": {},
   "outputs": [
    {
     "data": {
      "text/plain": [
       "3.141592653589793"
      ]
     },
     "execution_count": 15,
     "metadata": {},
     "output_type": "execute_result"
    }
   ],
   "source": [
    "math.pi"
   ]
  },
  {
   "cell_type": "markdown",
   "id": "d7d59353-11aa-46fe-8ea7-65d85ba14883",
   "metadata": {},
   "source": [
    "- () : function or methods \n",
    "- only functions or methods is callable\n",
    "- if something says not callable means, it is not a function\n",
    "- it is not a function means, you need to remove bracket\n",
    "- bound method menas=====add the brackets\n",
    "- function====add the brackets\n",
    "- not callable=====remove brackets"
   ]
  },
  {
   "cell_type": "markdown",
   "id": "8f1a2c62-8600-47e4-b3cb-9ac01d6d3040",
   "metadata": {},
   "source": [
    "- random\n",
    "- math\n",
    "- keyword\n",
    "# TIME"
   ]
  },
  {
   "cell_type": "code",
   "execution_count": 16,
   "id": "7aac0b25-0e9a-415d-9a35-7004a0d8f896",
   "metadata": {},
   "outputs": [
    {
     "name": "stdout",
     "output_type": "stream",
     "text": [
      "Father:Hello\n",
      "D:hai pappa\n",
      "Father: do you have school 2 day\n"
     ]
    }
   ],
   "source": [
    "import time\n",
    "print(\"Father:Hello\")\n",
    "time.sleep(4)\n",
    "print(\"D:hai pappa\")\n",
    "time.sleep(2)\n",
    "print(\"Father: do you have school 2 day\")"
   ]
  },
  {
   "cell_type": "markdown",
   "id": "6599ce12-9ee8-43de-ae3f-6938de793722",
   "metadata": {},
   "source": [
    "- computer vision is used for image operations\n",
    "- video operations\n",
    "\n",
    "- we called is as opencv\n",
    "\n",
    "- package name : cv2"
   ]
  },
  {
   "cell_type": "code",
   "execution_count": 17,
   "id": "541fc867-3091-48bf-b300-adf834fa28a9",
   "metadata": {},
   "outputs": [
    {
     "ename": "ModuleNotFoundError",
     "evalue": "No module named 'cv2'",
     "output_type": "error",
     "traceback": [
      "\u001b[1;31m---------------------------------------------------------------------------\u001b[0m",
      "\u001b[1;31mModuleNotFoundError\u001b[0m                       Traceback (most recent call last)",
      "Cell \u001b[1;32mIn[17], line 1\u001b[0m\n\u001b[1;32m----> 1\u001b[0m \u001b[38;5;28;01mimport\u001b[39;00m \u001b[38;5;21;01mcv2\u001b[39;00m\n",
      "\u001b[1;31mModuleNotFoundError\u001b[0m: No module named 'cv2'"
     ]
    }
   ],
   "source": [
    "import cv2"
   ]
  },
  {
   "cell_type": "markdown",
   "id": "c8101523-4249-414f-9c63-f46caf876b24",
   "metadata": {},
   "source": [
    "- whenever module not found we need to install that\n",
    "\n",
    "- here our package name is cv2\n",
    "\n",
    "- 99% the installation will be like this\n",
    "\n",
    "- pip instal <package name>\n",
    "\n",
    "- some packages installation name will diff and python import name is diff\n",
    "\n",
    "- in order to install we need internet\n",
    "\n",
    "- if internet problem occures while installing we will get http error"
   ]
  },
  {
   "cell_type": "code",
   "execution_count": 18,
   "id": "adbaadbe-148c-4855-860b-7fa92a25cd21",
   "metadata": {},
   "outputs": [],
   "source": [
    "import cv2"
   ]
  },
  {
   "cell_type": "code",
   "execution_count": 19,
   "id": "8b95b258-49ed-4fc4-b7b0-bd0a136abd68",
   "metadata": {},
   "outputs": [],
   "source": [
    "import streamlit"
   ]
  },
  {
   "cell_type": "code",
   "execution_count": 20,
   "id": "082dedb4-845d-4a68-a690-c0ee6868c080",
   "metadata": {},
   "outputs": [],
   "source": [
    "import flask"
   ]
  },
  {
   "cell_type": "code",
   "execution_count": 21,
   "id": "f339fc71-2b47-45c5-86b7-2fa8eedd8d87",
   "metadata": {},
   "outputs": [
    {
     "data": {
      "text/plain": [
       "['Blueprint',\n",
       " 'Config',\n",
       " 'Flask',\n",
       " 'Request',\n",
       " 'Response',\n",
       " '__builtins__',\n",
       " '__cached__',\n",
       " '__doc__',\n",
       " '__file__',\n",
       " '__getattr__',\n",
       " '__loader__',\n",
       " '__name__',\n",
       " '__package__',\n",
       " '__path__',\n",
       " '__spec__',\n",
       " 'abort',\n",
       " 'after_this_request',\n",
       " 'annotations',\n",
       " 'app',\n",
       " 'appcontext_popped',\n",
       " 'appcontext_pushed',\n",
       " 'appcontext_tearing_down',\n",
       " 'before_render_template',\n",
       " 'blueprints',\n",
       " 'cli',\n",
       " 'config',\n",
       " 'copy_current_request_context',\n",
       " 'ctx',\n",
       " 'current_app',\n",
       " 'flash',\n",
       " 'g',\n",
       " 'get_flashed_messages',\n",
       " 'get_template_attribute',\n",
       " 'globals',\n",
       " 'got_request_exception',\n",
       " 'has_app_context',\n",
       " 'has_request_context',\n",
       " 'helpers',\n",
       " 'json',\n",
       " 'jsonify',\n",
       " 'logging',\n",
       " 'make_response',\n",
       " 'message_flashed',\n",
       " 'redirect',\n",
       " 'render_template',\n",
       " 'render_template_string',\n",
       " 'request',\n",
       " 'request_finished',\n",
       " 'request_started',\n",
       " 'request_tearing_down',\n",
       " 'sansio',\n",
       " 'send_file',\n",
       " 'send_from_directory',\n",
       " 'session',\n",
       " 'sessions',\n",
       " 'signals',\n",
       " 'stream_template',\n",
       " 'stream_template_string',\n",
       " 'stream_with_context',\n",
       " 't',\n",
       " 'template_rendered',\n",
       " 'templating',\n",
       " 'typing',\n",
       " 'url_for',\n",
       " 'wrappers']"
      ]
     },
     "execution_count": 21,
     "metadata": {},
     "output_type": "execute_result"
    }
   ],
   "source": [
    "dir(flask)"
   ]
  },
  {
   "cell_type": "code",
   "execution_count": 22,
   "id": "7bb2433f-7321-4ccf-beeb-afe7e779c994",
   "metadata": {},
   "outputs": [
    {
     "name": "stdout",
     "output_type": "stream",
     "text": [
      "Help on function render_template in module flask.templating:\n",
      "\n",
      "render_template(template_name_or_list: 'str | Template | list[str | Template]', **context: 't.Any') -> 'str'\n",
      "    Render a template by name with the given context.\n",
      "    \n",
      "    :param template_name_or_list: The name of the template to render. If\n",
      "        a list is given, the first name to exist will be rendered.\n",
      "    :param context: The variables to make available in the template.\n",
      "\n"
     ]
    }
   ],
   "source": [
    "help(flask.render_template)"
   ]
  },
  {
   "cell_type": "markdown",
   "id": "2a46c971-e3df-467a-8352-73d92d869da4",
   "metadata": {},
   "source": [
    "**Note**\n",
    "- pip freeze is the command to know the already existed packages in our laptop"
   ]
  },
  {
   "cell_type": "code",
   "execution_count": 25,
   "id": "96b2336c-3731-40c0-b3f5-f4adfdb9aa5e",
   "metadata": {},
   "outputs": [],
   "source": [
    "import numpy\n"
   ]
  },
  {
   "cell_type": "code",
   "execution_count": 26,
   "id": "bb206b0c-3746-4477-9a9a-858ca37590de",
   "metadata": {},
   "outputs": [
    {
     "data": {
      "text/plain": [
       "<module 'numpy' from 'C:\\\\ProgramData\\\\anaconda3\\\\Lib\\\\site-packages\\\\numpy\\\\__init__.py'>"
      ]
     },
     "execution_count": 26,
     "metadata": {},
     "output_type": "execute_result"
    }
   ],
   "source": [
    "numpy\n"
   ]
  },
  {
   "cell_type": "markdown",
   "id": "84afa44c-b34c-4c45-a26d-5340e72801da",
   "metadata": {},
   "source": [
    "!pip install opencv-python\n",
    "\n",
    "- in jupyter notr book we need add ! mark\n",
    "\n",
    "- in anaconda prompt no need of ! mark\n",
    "\n",
    "- directly name you can provide"
   ]
  },
  {
   "cell_type": "code",
   "execution_count": 28,
   "id": "b6e893cb-6001-4fe7-80e4-0d7436eeca0d",
   "metadata": {},
   "outputs": [
    {
     "name": "stdout",
     "output_type": "stream",
     "text": [
      "30\n"
     ]
    }
   ],
   "source": [
    "\n",
    "number1=10\n",
    "number2=20\n",
    "add=number1+number2\n",
    "print(add)"
   ]
  },
  {
   "cell_type": "code",
   "execution_count": 2,
   "id": "9688dfb3-2d32-40c4-a835-5b19f80d0df1",
   "metadata": {},
   "outputs": [
    {
     "name": "stdin",
     "output_type": "stream",
     "text": [
      "enter num1:  4\n",
      "enter num1:  7\n"
     ]
    },
    {
     "name": "stdout",
     "output_type": "stream",
     "text": [
      "11\n"
     ]
    }
   ],
   "source": [
    "num1=eval(input(\"enter num1: \"))\n",
    "num2=eval(input(\"enter num1: \"))\n",
    "add=num1+num2\n",
    "print(add)"
   ]
  },
  {
   "cell_type": "code",
   "execution_count": 33,
   "id": "1eaa8d3c-0b76-4026-b6cc-1059098a29f7",
   "metadata": {},
   "outputs": [
    {
     "name": "stdout",
     "output_type": "stream",
     "text": [
      "the addition of 57 and 113 is 170\n"
     ]
    }
   ],
   "source": [
    "# we can take the numbers randomly also \n",
    "import random \n",
    "number1=random.randint(1,100)\n",
    "number2=random.randint(100,200)\n",
    "add=number1+number2\n",
    "print(f\"the addition of {number1} and {number2} is {add}\")"
   ]
  },
  {
   "cell_type": "markdown",
   "id": "b7876285-7c35-43d9-b327-b763ec52e549",
   "metadata": {},
   "source": [
    "**How we pass the numbers**\n",
    "\n",
    "- hard codings\n",
    "  \n",
    "- using keyword\n",
    "- "
   ]
  },
  {
   "cell_type": "code",
   "execution_count": 6,
   "id": "c06005f5-9d79-4eac-89f6-6ee9dcd57b1b",
   "metadata": {},
   "outputs": [
    {
     "name": "stdin",
     "output_type": "stream",
     "text": [
      "enter the n2 4\n"
     ]
    },
    {
     "name": "stdout",
     "output_type": "stream",
     "text": [
      "The average of 10,4 and 8 is: 7.333333333333333\n"
     ]
    }
   ],
   "source": [
    "import random\n",
    "n1=10\n",
    "n2=eval(input(\"enter the n2\"))\n",
    "n3=random.randint(1,100)\n",
    "avg=(n1+n2+n3)/3\n",
    "print(f\"The average of {n1},{n2} and {n3} is: {avg}\")"
   ]
  },
  {
   "cell_type": "code",
   "execution_count": 38,
   "id": "ecfa34d5-76ea-4607-ad83-ba88f819359d",
   "metadata": {},
   "outputs": [
    {
     "name": "stdout",
     "output_type": "stream",
     "text": [
      "Help on built-in function eval in module builtins:\n",
      "\n",
      "eval(source, globals=None, locals=None, /)\n",
      "    Evaluate the given source in the context of globals and locals.\n",
      "    \n",
      "    The source may be a string representing a Python expression\n",
      "    or a code object as returned by compile().\n",
      "    The globals must be a dictionary and locals can be any mapping,\n",
      "    defaulting to the current globals and locals.\n",
      "    If only globals is given, locals defaults to it.\n",
      "\n"
     ]
    }
   ],
   "source": [
    "help(eval)"
   ]
  },
  {
   "cell_type": "markdown",
   "id": "7fa8d16d-f8f2-4654-8ceb-5661785b9877",
   "metadata": {},
   "source": [
    "**round**"
   ]
  },
  {
   "cell_type": "code",
   "execution_count": 39,
   "id": "fab9fef8-efef-4188-8ba8-ebd7c76eb0d4",
   "metadata": {},
   "outputs": [
    {
     "data": {
      "text/plain": [
       "23"
      ]
     },
     "execution_count": 39,
     "metadata": {},
     "output_type": "execute_result"
    }
   ],
   "source": [
    "avg=22.66666666666666666660\n",
    "round(avg)"
   ]
  },
  {
   "cell_type": "code",
   "execution_count": 40,
   "id": "1767d8b7-96ee-4455-90f9-50b13e45a12a",
   "metadata": {},
   "outputs": [
    {
     "data": {
      "text/plain": [
       "22.667"
      ]
     },
     "execution_count": 40,
     "metadata": {},
     "output_type": "execute_result"
    }
   ],
   "source": [
    "avg=22.66666666666666666660\n",
    "round(avg,3)"
   ]
  },
  {
   "cell_type": "code",
   "execution_count": 41,
   "id": "941a22ea-5eb5-4615-bdf7-1bea1775c511",
   "metadata": {},
   "outputs": [
    {
     "name": "stdout",
     "output_type": "stream",
     "text": [
      "Help on built-in function round in module builtins:\n",
      "\n",
      "round(number, ndigits=None)\n",
      "    Round a number to a given precision in decimal digits.\n",
      "    \n",
      "    The return value is an integer if ndigits is omitted or None.  Otherwise\n",
      "    the return value has the same type as the number.  ndigits may be negative.\n",
      "\n"
     ]
    }
   ],
   "source": [
    "help(round)"
   ]
  },
  {
   "cell_type": "code",
   "execution_count": null,
   "id": "95cce704-8725-4dff-a8b0-2226e76744b8",
   "metadata": {},
   "outputs": [],
   "source": [
    "n1=10\n",
    "n2=eval(input(\"enter the n2\"))\n",
    "n3=rabdom.raddint(1,100)\n",
    "avg=(n1+n2+n3)/3\n",
    "avg1=round((n1+n2+n3))\n",
    "print(f\"The average of {n1},{n2} and {n3} is: {avg}\")"
   ]
  }
 ],
 "metadata": {
  "kernelspec": {
   "display_name": "Python 3 (ipykernel)",
   "language": "python",
   "name": "python3"
  },
  "language_info": {
   "codemirror_mode": {
    "name": "ipython",
    "version": 3
   },
   "file_extension": ".py",
   "mimetype": "text/x-python",
   "name": "python",
   "nbconvert_exporter": "python",
   "pygments_lexer": "ipython3",
   "version": "3.11.7"
  }
 },
 "nbformat": 4,
 "nbformat_minor": 5
}
