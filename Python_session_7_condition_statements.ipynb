{
 "cells": [
  {
   "cell_type": "markdown",
   "id": "b8945fe1-0275-4065-9d87-4bfef6f1205b",
   "metadata": {},
   "source": [
    "**Conditional_statements**"
   ]
  },
  {
   "cell_type": "markdown",
   "id": "715a1e69-5270-40b9-8027-3bffdcc5773f",
   "metadata": {},
   "source": [
    "- Conditional statements means we want to run the code lines based on condition\n",
    "  \n",
    "- if rain comes i will not go to school otherwise i will go to movie\n",
    "\n",
    "- rain is therer will effect one process\n",
    "\n",
    "- rain is not there will effect another process\n",
    "\n",
    "if \n",
    "\n",
    "elif \n",
    "\n",
    "else"
   ]
  },
  {
   "cell_type": "markdown",
   "id": "54687069-f552-48da-b79b-6b4afa98172a",
   "metadata": {},
   "source": [
    "# if"
   ]
  },
  {
   "cell_type": "code",
   "execution_count": null,
   "id": "d58c5135-95ed-47e0-8d1a-299fa798d4e2",
   "metadata": {},
   "outputs": [],
   "source": [
    "#syntax\n",
    "if <condition>:\n",
    "    <codeline1>\n",
    "    <codeline2>\n",
    "        "
   ]
  },
  {
   "cell_type": "markdown",
   "id": "91574624-68e4-4143-bb64-114441314884",
   "metadata": {},
   "source": [
    "- whenever any line start with keyword(green) at the end of the line we have colon(:)\n",
    "\n",
    "- whenever we have a colon(:) the next lines start with some gap\n",
    "\n",
    "- and this gap is called as **intendentaion**\n",
    "\n",
    "- how many lines we are maintaining gap (intentaion)that all are under one area"
   ]
  },
  {
   "cell_type": "markdown",
   "id": "578b041b-8c29-4c6e-97c1-89cd7f7ec9bc",
   "metadata": {},
   "source": [
    "- if it is a conditional statement, it will check the condition is True or False\n",
    "\n",
    "- if that condition will True then only it will enter inside the if area\n",
    "\n",
    "- and execute those lines of codes\n",
    "\n",
    "- if that condition will false, then it will not enter inside the if area\n",
    "\n",
    "- and it will not execute those lines of code"
   ]
  },
  {
   "cell_type": "code",
   "execution_count": 2,
   "id": "58a03da9-4146-4413-b912-8e20e240aaa8",
   "metadata": {},
   "outputs": [
    {
     "data": {
      "text/plain": [
       "True"
      ]
     },
     "execution_count": 2,
     "metadata": {},
     "output_type": "execute_result"
    }
   ],
   "source": [
    "1000>10"
   ]
  },
  {
   "cell_type": "code",
   "execution_count": 3,
   "id": "e9376717-c634-48a2-966f-e383b215e892",
   "metadata": {},
   "outputs": [
    {
     "name": "stdout",
     "output_type": "stream",
     "text": [
      "Hello\n"
     ]
    }
   ],
   "source": [
    "if 100>10:                         #if True:\n",
    "    print(\"Hello\")"
   ]
  },
  {
   "cell_type": "markdown",
   "id": "24104a32-90ad-4fd5-bbc9-c4a48ba3039b",
   "metadata": {},
   "source": [
    "# mistake-1\n",
    "- intentation"
   ]
  },
  {
   "cell_type": "code",
   "execution_count": 6,
   "id": "5e5dc915-eca6-4387-b18c-14888aa9e058",
   "metadata": {},
   "outputs": [
    {
     "ename": "IndentationError",
     "evalue": "expected an indented block after 'if' statement on line 1 (3402335843.py, line 2)",
     "output_type": "error",
     "traceback": [
      "\u001b[1;36m  Cell \u001b[1;32mIn[6], line 2\u001b[1;36m\u001b[0m\n\u001b[1;33m    print(\"Hello\")\u001b[0m\n\u001b[1;37m    ^\u001b[0m\n\u001b[1;31mIndentationError\u001b[0m\u001b[1;31m:\u001b[0m expected an indented block after 'if' statement on line 1\n"
     ]
    }
   ],
   "source": [
    "if 100>10:\n",
    "print(\"Hello\")\n",
    "#Intentation require 4 character spaces \n",
    "#so error"
   ]
  },
  {
   "cell_type": "markdown",
   "id": "69914578-e833-40a2-a10e-957c99a30030",
   "metadata": {},
   "source": [
    "# mistake-2\n",
    "\n",
    "- colon (:) missing"
   ]
  },
  {
   "cell_type": "code",
   "execution_count": 7,
   "id": "d23c1e9a-ab99-4774-81b6-08065dfd4785",
   "metadata": {},
   "outputs": [
    {
     "ename": "SyntaxError",
     "evalue": "expected ':' (2167152035.py, line 1)",
     "output_type": "error",
     "traceback": [
      "\u001b[1;36m  Cell \u001b[1;32mIn[7], line 1\u001b[1;36m\u001b[0m\n\u001b[1;33m    if 100>10\u001b[0m\n\u001b[1;37m             ^\u001b[0m\n\u001b[1;31mSyntaxError\u001b[0m\u001b[1;31m:\u001b[0m expected ':'\n"
     ]
    }
   ],
   "source": [
    "if 100>10\n",
    "    print(\"Hello\")\n",
    "# here colon is missed \n",
    "# syntax missed\n",
    "#so error"
   ]
  },
  {
   "cell_type": "markdown",
   "id": "087760aa-cbe7-44ea-8302-25adb83fe404",
   "metadata": {},
   "source": [
    "# mistake-3\n",
    "\n",
    "- condition"
   ]
  },
  {
   "cell_type": "code",
   "execution_count": 8,
   "id": "60a7195d-086a-4065-9950-0239ed4d635b",
   "metadata": {},
   "outputs": [
    {
     "ename": "SyntaxError",
     "evalue": "invalid syntax (3213965217.py, line 1)",
     "output_type": "error",
     "traceback": [
      "\u001b[1;36m  Cell \u001b[1;32mIn[8], line 1\u001b[1;36m\u001b[0m\n\u001b[1;33m    if :\u001b[0m\n\u001b[1;37m       ^\u001b[0m\n\u001b[1;31mSyntaxError\u001b[0m\u001b[1;31m:\u001b[0m invalid syntax\n"
     ]
    }
   ],
   "source": [
    "if :\n",
    " print(\"Hello\")"
   ]
  },
  {
   "cell_type": "markdown",
   "id": "19075487-0ae2-4e29-a3f4-ded20cdb313c",
   "metadata": {},
   "source": [
    "# mistake-4\n",
    "\n",
    "- missing brackets in print statement"
   ]
  },
  {
   "cell_type": "code",
   "execution_count": 10,
   "id": "a242b25e-fc19-4b93-973d-18f113a6190b",
   "metadata": {},
   "outputs": [
    {
     "ename": "SyntaxError",
     "evalue": "Missing parentheses in call to 'print'. Did you mean print(...)? (3499118052.py, line 2)",
     "output_type": "error",
     "traceback": [
      "\u001b[1;36m  Cell \u001b[1;32mIn[10], line 2\u001b[1;36m\u001b[0m\n\u001b[1;33m    print \"Hello\"\u001b[0m\n\u001b[1;37m    ^\u001b[0m\n\u001b[1;31mSyntaxError\u001b[0m\u001b[1;31m:\u001b[0m Missing parentheses in call to 'print'. Did you mean print(...)?\n"
     ]
    }
   ],
   "source": [
    "if 100>10:\n",
    "    print \"Hello\"\n",
    "#here brackets are missing in printing statement"
   ]
  },
  {
   "cell_type": "markdown",
   "id": "5d813804-d2fc-40fc-a0bb-398522779ec0",
   "metadata": {},
   "source": [
    "# mistake-5\n",
    "- never assign a variable to a print statement\n",
    "\n",
    "- print we are using for to see the answer"
   ]
  },
  {
   "cell_type": "code",
   "execution_count": 11,
   "id": "2be84236-5beb-496d-9271-e842a6f65c23",
   "metadata": {},
   "outputs": [
    {
     "name": "stdout",
     "output_type": "stream",
     "text": [
      "Hello\n"
     ]
    }
   ],
   "source": [
    "if 100>10:\n",
    "    name=print(\"Hello\")"
   ]
  },
  {
   "cell_type": "markdown",
   "id": "eea39667-4d44-45ee-bee8-54c90c5b1a44",
   "metadata": {},
   "source": [
    "# mistake-6 \n",
    "\n",
    "- all type of syntax errors\n",
    "\n",
    "- splling mistakes "
   ]
  },
  {
   "cell_type": "code",
   "execution_count": 14,
   "id": "2f9b777d-e0f7-439b-b129-52bd8ea2b193",
   "metadata": {},
   "outputs": [
    {
     "ename": "SyntaxError",
     "evalue": "invalid syntax (3618565861.py, line 1)",
     "output_type": "error",
     "traceback": [
      "\u001b[1;36m  Cell \u001b[1;32mIn[14], line 1\u001b[1;36m\u001b[0m\n\u001b[1;33m    if 10>2'Python':\u001b[0m\n\u001b[1;37m           ^\u001b[0m\n\u001b[1;31mSyntaxError\u001b[0m\u001b[1;31m:\u001b[0m invalid syntax\n"
     ]
    }
   ],
   "source": [
    "if 10>2'Python':\n",
    "    print('H')\n",
    "#python if will not accept the strings in conditions"
   ]
  },
  {
   "cell_type": "code",
   "execution_count": 15,
   "id": "b94be634-fa20-46c0-bd7a-f5a009a26025",
   "metadata": {},
   "outputs": [
    {
     "name": "stdout",
     "output_type": "stream",
     "text": [
      "Hello\n",
      "good morning\n"
     ]
    }
   ],
   "source": [
    "if 100>10:\n",
    "    print(\"Hello\")\n",
    "    print('good morning')"
   ]
  },
  {
   "cell_type": "code",
   "execution_count": 19,
   "id": "b6395bb1-390e-48da-8475-74234ef5cb41",
   "metadata": {},
   "outputs": [
    {
     "name": "stdout",
     "output_type": "stream",
     "text": [
      "10\n",
      "20\n",
      "Hello\n",
      "good morning\n",
      "okay\n",
      "bye tata \n"
     ]
    }
   ],
   "source": [
    "print(10)\n",
    "print(20)\n",
    "###############################################\n",
    "if 100>10:\n",
    "    print(\"Hello\")\n",
    "    print('good morning')\n",
    "##############################################\n",
    "print('okay')\n",
    "print('bye tata ')\n",
    "\n",
    "# step-1: if 100>10 if True\n",
    "# step-2: hello \n",
    "# step-3: good morning\n",
    "# step-4: okay\n",
    "# step-5: bye tata"
   ]
  },
  {
   "cell_type": "code",
   "execution_count": 22,
   "id": "22c20cf2-5399-4a3c-bfd5-0c9d960b0b14",
   "metadata": {},
   "outputs": [
    {
     "ename": "IndentationError",
     "evalue": "unexpected indent (1590670275.py, line 8)",
     "output_type": "error",
     "traceback": [
      "\u001b[1;36m  Cell \u001b[1;32mIn[22], line 8\u001b[1;36m\u001b[0m\n\u001b[1;33m    print('okay')\u001b[0m\n\u001b[1;37m    ^\u001b[0m\n\u001b[1;31mIndentationError\u001b[0m\u001b[1;31m:\u001b[0m unexpected indent\n"
     ]
    }
   ],
   "source": [
    "print(10)\n",
    "print(20)\n",
    "###############################################\n",
    "if 100>10:\n",
    "    print(\"Hello\")\n",
    "print('good morning')\n",
    "##############################################\n",
    "    print('okay')\n",
    "print('bye tata ')\n",
    "\n",
    "# once u out of the condition u cannot enter the same condition"
   ]
  },
  {
   "cell_type": "code",
   "execution_count": 23,
   "id": "cd04fedc-c309-42ce-bfa7-7517d859f731",
   "metadata": {},
   "outputs": [
    {
     "name": "stdout",
     "output_type": "stream",
     "text": [
      "10\n",
      "Hello\n",
      "good morning\n",
      "okay\n",
      "bye tata \n"
     ]
    }
   ],
   "source": [
    "print(10)\n",
    "if True:\n",
    "    print(\"Hello\")\n",
    "    print('good morning')\n",
    "    print('okay')\n",
    "print('bye tata ')"
   ]
  },
  {
   "cell_type": "code",
   "execution_count": 24,
   "id": "8fe3a6a0-084d-4487-8d20-841d0642d7dd",
   "metadata": {},
   "outputs": [
    {
     "name": "stdout",
     "output_type": "stream",
     "text": [
      "bye tata \n"
     ]
    }
   ],
   "source": [
    "if 100<10:\n",
    "    print(\"Hello\")\n",
    "    print('good morning')\n",
    "##############################################\n",
    "    print('okay')\n",
    "print('bye tata ')"
   ]
  },
  {
   "cell_type": "code",
   "execution_count": 26,
   "id": "29ff4e71-6452-45e5-94a5-c543e816483b",
   "metadata": {},
   "outputs": [
    {
     "name": "stdout",
     "output_type": "stream",
     "text": [
      "Hello\n",
      "good morning\n",
      "okay\n",
      "bye tata \n"
     ]
    }
   ],
   "source": [
    "if 100:\n",
    "    print(\"Hello\")\n",
    "    print('good morning')\n",
    "##############################################\n",
    "    print('okay')\n",
    "print('bye tata ')"
   ]
  },
  {
   "cell_type": "code",
   "execution_count": 27,
   "id": "5ca8faaf-4f7c-4baa-8d94-831e4fa5c445",
   "metadata": {},
   "outputs": [
    {
     "name": "stdout",
     "output_type": "stream",
     "text": [
      "10\n",
      "bye tata \n"
     ]
    }
   ],
   "source": [
    "print(10)\n",
    "if 0:\n",
    "    print(\"Hello\")\n",
    "    print('good morning')\n",
    "##############################################\n",
    "    print('okay')\n",
    "print('bye tata ')"
   ]
  },
  {
   "cell_type": "markdown",
   "id": "ee5c866d-5d51-4904-a977-c6fb84948421",
   "metadata": {},
   "source": [
    "# giving string values in if condition "
   ]
  },
  {
   "cell_type": "code",
   "execution_count": 32,
   "id": "58d41c60-5ca6-4fa3-89f7-963e5577eea4",
   "metadata": {},
   "outputs": [
    {
     "name": "stdout",
     "output_type": "stream",
     "text": [
      "10\n",
      "Hello\n",
      "good morning\n",
      "okay\n",
      "bye tata \n"
     ]
    }
   ],
   "source": [
    "print(10)\n",
    "if 'hi':          # here any type of string or value works except **0**\n",
    "    print(\"Hello\")\n",
    "    print('good morning')\n",
    "##############################################\n",
    "    print('okay')\n",
    "print('bye tata ')"
   ]
  },
  {
   "cell_type": "code",
   "execution_count": 35,
   "id": "08279d70-588c-4242-8192-2e7d0d6abc6a",
   "metadata": {},
   "outputs": [
    {
     "name": "stdout",
     "output_type": "stream",
     "text": [
      "10\n"
     ]
    },
    {
     "ename": "NameError",
     "evalue": "name 'true' is not defined",
     "output_type": "error",
     "traceback": [
      "\u001b[1;31m---------------------------------------------------------------------------\u001b[0m",
      "\u001b[1;31mNameError\u001b[0m                                 Traceback (most recent call last)",
      "Cell \u001b[1;32mIn[35], line 2\u001b[0m\n\u001b[0;32m      1\u001b[0m \u001b[38;5;28mprint\u001b[39m(\u001b[38;5;241m10\u001b[39m)\n\u001b[1;32m----> 2\u001b[0m \u001b[38;5;28;01mif\u001b[39;00m true:\n\u001b[0;32m      3\u001b[0m     \u001b[38;5;28mprint\u001b[39m(\u001b[38;5;124m\"\u001b[39m\u001b[38;5;124mHello\u001b[39m\u001b[38;5;124m\"\u001b[39m)\n\u001b[0;32m      4\u001b[0m     \u001b[38;5;28mprint\u001b[39m(\u001b[38;5;124m'\u001b[39m\u001b[38;5;124mgood morning\u001b[39m\u001b[38;5;124m'\u001b[39m)\n",
      "\u001b[1;31mNameError\u001b[0m: name 'true' is not defined"
     ]
    }
   ],
   "source": [
    "print(10)\n",
    "if true:\n",
    "    print(\"Hello\")\n",
    "    print('good morning')\n",
    "##############################################\n",
    "    print('okay')\n",
    "print('bye tata ')\n",
    "\n",
    "# here variables are not accepted \n",
    "# so only line 1 will be executed"
   ]
  },
  {
   "cell_type": "markdown",
   "id": "f9f22409-7f90-4367-8d07-2d4a1883f77d",
   "metadata": {},
   "source": [
    "# if-else"
   ]
  },
  {
   "cell_type": "markdown",
   "id": "e657164d-ce9b-40fd-8e24-e02629d37647",
   "metadata": {},
   "source": [
    "- if required condition \n",
    "\n",
    "- if that condition is True, then it will execute if block\n",
    "\n",
    "- otherwise it directly go to else block\n",
    "\n",
    "- else block does not require any condition "
   ]
  },
  {
   "cell_type": "code",
   "execution_count": 37,
   "id": "cac3640d-d952-4bb7-a550-e17d41295a2d",
   "metadata": {},
   "outputs": [
    {
     "ename": "SyntaxError",
     "evalue": "invalid syntax (3983564310.py, line 3)",
     "output_type": "error",
     "traceback": [
      "\u001b[1;36m  Cell \u001b[1;32mIn[37], line 3\u001b[1;36m\u001b[0m\n\u001b[1;33m    if<condition>:\u001b[0m\n\u001b[1;37m      ^\u001b[0m\n\u001b[1;31mSyntaxError\u001b[0m\u001b[1;31m:\u001b[0m invalid syntax\n"
     ]
    }
   ],
   "source": [
    "# syntax \n",
    "\n",
    "if<condition>:\n",
    "    <codeline>\n",
    "else: \n",
    "    <code line>"
   ]
  },
  {
   "cell_type": "code",
   "execution_count": 38,
   "id": "db1254cd-58e5-4bf3-9164-43aaaef5541a",
   "metadata": {},
   "outputs": [
    {
     "name": "stdout",
     "output_type": "stream",
     "text": [
      "tata\n"
     ]
    }
   ],
   "source": [
    "if 100>1000:\n",
    "    print('hello')\n",
    "else:\n",
    "    print('tata')"
   ]
  },
  {
   "cell_type": "code",
   "execution_count": 39,
   "id": "848fc4a2-73f7-448f-94dc-ece84040a257",
   "metadata": {},
   "outputs": [
    {
     "name": "stdout",
     "output_type": "stream",
     "text": [
      "tata\n"
     ]
    }
   ],
   "source": [
    "if 100>100:\n",
    "    print('hello')\n",
    "else:\n",
    "    print('tata')"
   ]
  },
  {
   "cell_type": "code",
   "execution_count": 41,
   "id": "5a385533-5380-4e3b-9a2a-70e335cdc95c",
   "metadata": {},
   "outputs": [
    {
     "name": "stdout",
     "output_type": "stream",
     "text": [
      "hello\n",
      "good\n",
      "bye\n"
     ]
    }
   ],
   "source": [
    "print('hello')\n",
    "if 100>10:\n",
    "    print('good')\n",
    "else:\n",
    "    print('tata')\n",
    "    \n",
    "print('bye')"
   ]
  },
  {
   "cell_type": "code",
   "execution_count": 42,
   "id": "af748085-f76d-4b45-b4fa-35409ad50e1a",
   "metadata": {},
   "outputs": [
    {
     "ename": "SyntaxError",
     "evalue": "invalid syntax (1094960051.py, line 5)",
     "output_type": "error",
     "traceback": [
      "\u001b[1;36m  Cell \u001b[1;32mIn[42], line 5\u001b[1;36m\u001b[0m\n\u001b[1;33m    else:\u001b[0m\n\u001b[1;37m    ^\u001b[0m\n\u001b[1;31mSyntaxError\u001b[0m\u001b[1;31m:\u001b[0m invalid syntax\n"
     ]
    }
   ],
   "source": [
    "print('hello')\n",
    "if 100>10:\n",
    "    print('good')\n",
    "print('middle')\n",
    "else:\n",
    "    print('tata')\n",
    "    \n",
    "print('bye')"
   ]
  },
  {
   "cell_type": "code",
   "execution_count": 44,
   "id": "5c3865b2-8e05-40b1-82ad-77e1370ddfaa",
   "metadata": {},
   "outputs": [
    {
     "name": "stdout",
     "output_type": "stream",
     "text": [
      "10\n",
      "0\n",
      "10\n",
      "0.0\n"
     ]
    },
    {
     "ename": "ZeroDivisionError",
     "evalue": "division by zero",
     "output_type": "error",
     "traceback": [
      "\u001b[1;31m---------------------------------------------------------------------------\u001b[0m",
      "\u001b[1;31mZeroDivisionError\u001b[0m                         Traceback (most recent call last)",
      "Cell \u001b[1;32mIn[44], line 10\u001b[0m\n\u001b[0;32m      8\u001b[0m d\u001b[38;5;241m=\u001b[39mb\u001b[38;5;241m/\u001b[39ma\n\u001b[0;32m      9\u001b[0m \u001b[38;5;28mprint\u001b[39m(d)\n\u001b[1;32m---> 10\u001b[0m e\u001b[38;5;241m=\u001b[39ma\u001b[38;5;241m/\u001b[39mb        \u001b[38;5;66;03m# 10/0= any number /0 means error\u001b[39;00m\n\u001b[0;32m     11\u001b[0m \u001b[38;5;28mprint\u001b[39m(e)\n",
      "\u001b[1;31mZeroDivisionError\u001b[0m: division by zero"
     ]
    }
   ],
   "source": [
    "if True:\n",
    "    a=10\n",
    "    b=0\n",
    "    print(a)\n",
    "    print(b)\n",
    "    c=a+b\n",
    "    print(c)\n",
    "    d=b/a\n",
    "    print(d)\n",
    "    e=a/b        # 10/0= any number /0 means error\n",
    "    print(e)"
   ]
  },
  {
   "cell_type": "code",
   "execution_count": 45,
   "id": "4e325f99-9658-48a2-833e-bdc6e994d79a",
   "metadata": {},
   "outputs": [
    {
     "data": {
      "text/plain": [
       "1.25"
      ]
     },
     "execution_count": 45,
     "metadata": {},
     "output_type": "execute_result"
    }
   ],
   "source": [
    "5/4 # normal division"
   ]
  },
  {
   "cell_type": "code",
   "execution_count": 46,
   "id": "e700653b-94cb-4666-8c8d-64cda980a431",
   "metadata": {},
   "outputs": [
    {
     "data": {
      "text/plain": [
       "1"
      ]
     },
     "execution_count": 46,
     "metadata": {},
     "output_type": "execute_result"
    }
   ],
   "source": [
    "5//4 # floor division\n",
    "     "
   ]
  },
  {
   "cell_type": "code",
   "execution_count": 47,
   "id": "56cbf5b0-895e-4de7-95cf-730086686508",
   "metadata": {},
   "outputs": [
    {
     "data": {
      "text/plain": [
       "1"
      ]
     },
     "execution_count": 47,
     "metadata": {},
     "output_type": "execute_result"
    }
   ],
   "source": [
    "5%4      # remainder\n",
    "         # modululus operator"
   ]
  },
  {
   "cell_type": "code",
   "execution_count": null,
   "id": "14270c6d-1025-4fdf-be0c-96066b628f86",
   "metadata": {},
   "outputs": [],
   "source": [
    "#write a program(wap) ask the user enter a number \n",
    "# find it is a even number or odd number \n",
    "\n",
    "#step-1: num=eval(input())\n",
    "#step-2: if <condition>:\n",
    "#"
   ]
  },
  {
   "cell_type": "code",
   "execution_count": 50,
   "id": "106dad32-dd20-4603-b8a0-eb0eeba30553",
   "metadata": {},
   "outputs": [
    {
     "name": "stdin",
     "output_type": "stream",
     "text": [
      "enter a num:  5\n"
     ]
    },
    {
     "name": "stdout",
     "output_type": "stream",
     "text": [
      "odd\n"
     ]
    }
   ],
   "source": [
    "num=eval(input(\"enter a num: \"))\n",
    "if num%2==0 :\n",
    "    print('even')\n",
    "else:\n",
    "    print('odd')    \n"
   ]
  },
  {
   "cell_type": "code",
   "execution_count": null,
   "id": "41be4e18-a080-442a-8f22-f0c65def9d21",
   "metadata": {},
   "outputs": [],
   "source": []
  }
 ],
 "metadata": {
  "kernelspec": {
   "display_name": "Python 3 (ipykernel)",
   "language": "python",
   "name": "python3"
  },
  "language_info": {
   "codemirror_mode": {
    "name": "ipython",
    "version": 3
   },
   "file_extension": ".py",
   "mimetype": "text/x-python",
   "name": "python",
   "nbconvert_exporter": "python",
   "pygments_lexer": "ipython3",
   "version": "3.11.7"
  }
 },
 "nbformat": 4,
 "nbformat_minor": 5
}
